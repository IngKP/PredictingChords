{
 "cells": [
  {
   "cell_type": "code",
   "execution_count": 1,
   "id": "6734fd4c-8507-4473-8368-3fddd3b5bd28",
   "metadata": {},
   "outputs": [],
   "source": [
    "import os\n",
    "import pandas as pd\n",
    "import IPython.display as ipd\n",
    "import libfmp.b\n",
    "import gc\n",
    "import logging"
   ]
  },
  {
   "cell_type": "code",
   "execution_count": 2,
   "id": "dcaea5ba-be11-4d54-85f6-91438989def5",
   "metadata": {},
   "outputs": [
    {
     "name": "stdout",
     "output_type": "stream",
     "text": [
      "['0_Bm_E_C#m_F#m_Bm_E_A_A_110bpm_คนใจง่าย.wav', '0_C#m_B_C#m_B_C#m_B_A_B_112bpm_ขี้หึง.wav', '0_D_D_C#m_C#m_Bm_E_A_A_110bpm_คนใจง่าย.wav', '0_Em7=0.5_Cmaj7=0.5_Em7=0.5_Cmaj7_D_86bpm_ปล่อย.wav', '0_E_E_A_B_C#m_A_B_B_112bpm_ขี้หึง.wav', '0_E_E_G#m_A_E_E_C#m_B_112bpm_ขี้หึง.wav', '0_Fmaj7_Em7_Dm7=2_G7=2_C=2_C7=2_Fmaj7_Em7=2_Am7=2_Dm7_G_68bpm_ถ้า.wav', '0_Fmaj7_Em7_Dm7=2_G7=2_C_Fmaj7_Em7=2_Am7=2_Dm7=2_G7=2_C_68bpm_ถ้า.wav', '0_G=0.5_Em7=0.5_C=0.5_D=0.5_86bpm_ปล่อย.wav', '0_Gmaj7=0.5_Em7=0.5_Cmaj7=0.5_D=0.5_86bpm_ปล่อย.wav', '1_A_Amaj7_D_D_68bpm_นะหน้าธอง.wav', '1_Cmaj7_D7_G_G_100bpm_หมอกจาง.wav', '1_D_Dmaj7_Em7_A_79bpm_ถ้าเธอรักฉันจริง.wav', '1_E_A_C#m_A=2_B=2_73bpm_ร.wav', '1_G_A_F#m7_Bm_110bpm_คุกเข่า.wav', '1_G_A_F#m7_Bm_110bpm_คุกเข่า_stutter.wav', '1_G_Em7_Cmaj7_D_100bpm_หมอกจาง.wav', '2_C_Am7_Dm7_G7_C_Am7_Dm7_G7_68bpm_ถ้า.wav', '2_C_Em7_Am7_F_C_C7_Fmaj7_G_65bpm_ทุ้มอยู่.wav', '2_Dm7_Em7_Fmaj7_Em7_Dm7_C7_Em7_G_G_65bpm_ทุ้มอยู่.wav', '2_G_D_F#_Em7_D_C_Bm7_Am7_D_76bpm_ปีนี้ไม่ต้องเหงา.wav']\n"
     ]
    }
   ],
   "source": [
    "path = '/Users/Kittipat/Desktop/fypW/Program/Train_test/Train_songs'  # replace with the path to your directory\n",
    "files = []\n",
    "\n",
    "for file_name in os.listdir(path):\n",
    "    if os.path.isfile(os.path.join(path, file_name)):\n",
    "        if '.wav' in file_name:\n",
    "            files.append(file_name)\n",
    "\n",
    "print(files)\n",
    "\n",
    "#logging.shutdown()\n",
    "#os.remove('test.log')"
   ]
  },
  {
   "cell_type": "code",
   "execution_count": 3,
   "id": "c7d69fde-472e-47cb-a4ed-17ff7823c6ba",
   "metadata": {},
   "outputs": [
    {
     "name": "stdout",
     "output_type": "stream",
     "text": [
      "Train_songs/label/0_Bm_E_C#m_F#m_Bm_E_A_A_110bpm_คนใจง่าย.csv\n",
      "Train_songs/label/0_C#m_B_C#m_B_C#m_B_A_B_112bpm_ขี้หึง.csv\n",
      "Train_songs/label/0_D_D_C#m_C#m_Bm_E_A_A_110bpm_คนใจง่าย.csv\n",
      "Train_songs/label/0_Em7=0.5_Cmaj7=0.5_Em7=0.5_Cmaj7_D_86bpm_ปล่อย.csv\n",
      "Train_songs/label/0_E_E_A_B_C#m_A_B_B_112bpm_ขี้หึง.csv\n",
      "Train_songs/label/0_E_E_G#m_A_E_E_C#m_B_112bpm_ขี้หึง.csv\n",
      "Train_songs/label/0_Fmaj7_Em7_Dm7=2_G7=2_C=2_C7=2_Fmaj7_Em7=2_Am7=2_Dm7_G_68bpm_ถ้า.csv\n",
      "Train_songs/label/0_Fmaj7_Em7_Dm7=2_G7=2_C_Fmaj7_Em7=2_Am7=2_Dm7=2_G7=2_C_68bpm_ถ้า.csv\n",
      "Train_songs/label/0_G=0.5_Em7=0.5_C=0.5_D=0.5_86bpm_ปล่อย.csv\n",
      "Train_songs/label/0_Gmaj7=0.5_Em7=0.5_Cmaj7=0.5_D=0.5_86bpm_ปล่อย.csv\n",
      "Train_songs/label/1_A_Amaj7_D_D_68bpm_นะหน้าธอง.csv\n",
      "Train_songs/label/1_Cmaj7_D7_G_G_100bpm_หมอกจาง.csv\n",
      "Train_songs/label/1_D_Dmaj7_Em7_A_79bpm_ถ้าเธอรักฉันจริง.csv\n",
      "Train_songs/label/1_E_A_C#m_A=2_B=2_73bpm_ร.csv\n",
      "Train_songs/label/1_G_A_F#m7_Bm_110bpm_คุกเข่า.csv\n",
      "Train_songs/label/1_G_A_F#m7_Bm_110bpm_คุกเข่า_stutter.csv\n",
      "Train_songs/label/1_G_Em7_Cmaj7_D_100bpm_หมอกจาง.csv\n",
      "Train_songs/label/2_C_Am7_Dm7_G7_C_Am7_Dm7_G7_68bpm_ถ้า.csv\n",
      "Train_songs/label/2_C_Em7_Am7_F_C_C7_Fmaj7_G_65bpm_ทุ้มอยู่.csv\n",
      "Train_songs/label/2_Dm7_Em7_Fmaj7_Em7_Dm7_C7_Em7_G_G_65bpm_ทุ้มอยู่.csv\n",
      "Train_songs/label/2_G_D_F#_Em7_D_C_Bm7_Am7_D_76bpm_ปีนี้ไม่ต้องเหงา.csv\n"
     ]
    }
   ],
   "source": [
    "logging.basicConfig(filename='test.log', level = logging.DEBUG)        # config log\n",
    "#each_song = []\n",
    "#new_files = []\n",
    "for items in files:                                                    # initiate for loop for each file name\n",
    "    all_chord = items.split('_')                                       # for each file name, split _\n",
    "    logging.debug(f'all_chord = {all_chord}')\n",
    "    \n",
    "    for chord in all_chord:                                            # find bpm and split latter part out\n",
    "        index = all_chord.index(chord)                                 # index of string of each file names                  \n",
    "        logging.debug(f'index = {index}')                              \n",
    "        if 'bpm' in chord:                                             # find bpm\n",
    "            bpm = int(chord.split('b')[0])\n",
    "            logging.debug(f'bpm = {bpm}')\n",
    "        if index != 0:\n",
    "            if chord[0].isdigit():                                     # split the latter part\n",
    "                list_len = len(all_chord)\n",
    "                logging.debug(f'list_len = {list_len}')\n",
    "                del all_chord[index:list_len]\n",
    "                logging.debug(f'all_chord after del = {all_chord}')\n",
    "                break\n",
    "    \n",
    "    t = (1/(bpm/60))*4                                                 # time for each chord\n",
    "    ann = []                                                           # annotation matrix for each files\n",
    "    if all_chord[0] == '0':                                             # case 0: for the future\n",
    "        del all_chord[0]\n",
    "        mat_len = len(all_chord) \n",
    "        index = 0\n",
    "        n = 0\n",
    "        while True:\n",
    "            if index == (mat_len):\n",
    "                logging.info(f'going out, mat_len = {mat_len}')\n",
    "                break\n",
    "            if '=' in all_chord[index%mat_len]:\n",
    "                special_note = all_chord[index].split('=')\n",
    "                tmp = float(special_note[1])\n",
    "                tmp = 1/tmp\n",
    "                ann.append((n*t, (n+tmp)*t, special_note[0]))\n",
    "                n += tmp\n",
    "                logging.debug(f'= found, special_note = {special_note}, tmp = {tmp}, ann = {ann}')\n",
    "            else:\n",
    "                ann.append((n*t, (n+1)*t, all_chord[index]))\n",
    "                n += 1\n",
    "                logging.debug(f'normal length, ann = {ann}')\n",
    "            index += 1\n",
    "    elif all_chord[0] == '1':\n",
    "        del all_chord[0]\n",
    "        mat_len = len(all_chord) \n",
    "        index = 0\n",
    "        n = 0\n",
    "        while True:\n",
    "            if index == (mat_len*2):\n",
    "                logging.info(f'going out, mat_len = {mat_len}')\n",
    "                break\n",
    "            if '=' in all_chord[index%mat_len]:\n",
    "                special_note = all_chord[index%mat_len].split('=')\n",
    "                tmp = int(special_note[1])\n",
    "                tmp = 1/tmp\n",
    "                ann.append((n*t, (n+tmp)*t, special_note[0]))\n",
    "                n += tmp\n",
    "                logging.debug(f'= found, special_note = {special_note}, tmp = {tmp}, ann = {ann}')\n",
    "            else:\n",
    "                ann.append((n*t, (n+1)*t, all_chord[index%mat_len]))\n",
    "                n += 1\n",
    "                logging.debug(f'normal length, ann = {ann}')\n",
    "            index += 1\n",
    "            \n",
    "    else:\n",
    "        del all_chord[0]\n",
    "        mat_len = len(all_chord) \n",
    "        index = 0\n",
    "        n = 0\n",
    "        while True:\n",
    "            if index == (mat_len*2):\n",
    "                logging.info(f'going out, mat_len = {mat_len}')\n",
    "                break\n",
    "            if '=' in all_chord[index%mat_len]:\n",
    "                special_note = all_chord[index%mat_len].split('=')\n",
    "                tmp = int(special_note[1]) + 2\n",
    "                tmp = 1/tmp\n",
    "                ann.append((n*t, (n+tmp)*t, special_note[0]))\n",
    "                n += tmp\n",
    "                logging.debug(f'= found, special_note = {special_note}, tmp = {tmp}, ann = {ann}')\n",
    "            else:\n",
    "                tmp = 0.5\n",
    "                ann.append((n*t, (n+tmp)*t, all_chord[index%mat_len]))\n",
    "                logging.debug(f'normal length, ann = {ann}')\n",
    "                n += tmp\n",
    "            index += 1\n",
    "            \n",
    "    ann_df = pd.DataFrame(ann, columns=['start', 'end', 'label'])\n",
    "    path = 'Train_songs/label/' + items.split('.wav')[0] + '.csv'\n",
    "    print(path)\n",
    "    ann_test = libfmp.b.b_annotation.write_csv(ann_df, path)\n",
    "    \n"
   ]
  },
  {
   "cell_type": "code",
   "execution_count": 30,
   "id": "31dc1ef1-f162-4556-8f06-ca462fd42883",
   "metadata": {},
   "outputs": [
    {
     "name": "stdout",
     "output_type": "stream",
     "text": [
      "[]\n"
     ]
    }
   ],
   "source": [
    "handlers = logging.getLogger().handlers[:]\n",
    "#print(handlers)\n",
    "for handler in handlers:\n",
    "    #print(handler)\n",
    "    logging.getLogger().removeHandler(handler)\n",
    "    handler.close()\n",
    "#os.remove('test.log')"
   ]
  },
  {
   "cell_type": "code",
   "execution_count": 14,
   "id": "8d565b78-473e-4aef-a9f6-5d12c993e308",
   "metadata": {},
   "outputs": [
    {
     "name": "stdout",
     "output_type": "stream",
     "text": [
      "       start        end  label\n",
      "0   0.000000   3.037975      D\n",
      "1   3.037975   6.075949  Dmaj7\n",
      "2   6.075949   9.113924    Em7\n",
      "3   9.113924  12.151899      A\n",
      "4  12.151899  15.189873      D\n",
      "5  15.189873  18.227848  Dmaj7\n",
      "6  18.227848  21.265823    Em7\n",
      "7  21.265823  24.303797      A\n"
     ]
    },
    {
     "data": {
      "text/plain": [
       "numpy.float64"
      ]
     },
     "execution_count": 14,
     "metadata": {},
     "output_type": "execute_result"
    }
   ],
   "source": [
    "print(libfmp.b.b_annotation.read_csv(\"Train_songs/1_D_Dmaj7_Em7_A_79bpm_ถ้าเธอรักฉันจริง.csv\", header=True, add_label=False))\n",
    "df = libfmp.b.b_annotation.read_csv(\"Train_songs/1_D_Dmaj7_Em7_A_79bpm_ถ้าเธอรักฉันจริง.csv\", header=True, add_label=False)\n",
    "x = df.at[0,'start']\n",
    "type(x)"
   ]
  }
 ],
 "metadata": {
  "kernelspec": {
   "display_name": "Python 3 (ipykernel)",
   "language": "python",
   "name": "python3"
  },
  "language_info": {
   "codemirror_mode": {
    "name": "ipython",
    "version": 3
   },
   "file_extension": ".py",
   "mimetype": "text/x-python",
   "name": "python",
   "nbconvert_exporter": "python",
   "pygments_lexer": "ipython3",
   "version": "3.9.12"
  },
  "toc-autonumbering": false,
  "toc-showcode": true,
  "toc-showmarkdowntxt": false
 },
 "nbformat": 4,
 "nbformat_minor": 5
}
