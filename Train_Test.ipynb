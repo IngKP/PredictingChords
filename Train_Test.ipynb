{
 "cells": [
  {
   "cell_type": "code",
   "execution_count": 1,
   "id": "40c3b01e-9b2a-4188-a858-f1efdf542e60",
   "metadata": {},
   "outputs": [],
   "source": [
    "\n",
    "import sklearn\n",
    "from sklearn.model_selection import train_test_split\n",
    "from sklearn.metrics import accuracy_score, precision_score, recall_score, f1_score\n",
    "from sklearn.svm import SVC\n",
    "import os\n",
    "from matplotlib import pyplot as plt\n",
    "import librosa\n",
    "from glob import glob\n",
    "from scipy.linalg import circulant\n",
    "from numba import jit\n",
    "\n",
    "import sys\n",
    "sys.path.append('..')\n",
    "import libfmp.b\n",
    "import libfmp.c2\n",
    "import libfmp.c3\n",
    "import libfmp.c4\n",
    "from libfmp.c5 import get_chord_labels\n",
    "import libfmp.c6\n",
    "%matplotlib inline\n",
    "\n",
    "import pandas as pd\n",
    "import numpy as np\n",
    "import matplotlib.pylab as plt\n",
    "import seaborn as sns\n",
    "\n",
    "from glob import glob\n",
    "\n",
    "import librosa\n",
    "import librosa.display\n",
    "import IPython.display as ipd\n",
    "\n",
    "from itertools import cycle\n",
    "\n",
    "plt.rcParams['figure.figsize'] = (19.2, 10.8) #define size of the plot to 1920*1080 pixs square\n",
    "\n",
    "import scipy.stats\n",
    "np.set_printoptions(threshold=sys.maxsize)\n",
    "import logging"
   ]
  },
  {
   "cell_type": "code",
   "execution_count": 2,
   "id": "4aea4913-1403-4ada-b88f-b63c32b137d8",
   "metadata": {},
   "outputs": [
    {
     "name": "stdout",
     "output_type": "stream",
     "text": [
      "[1. 0. 0. 0. 1. 0. 0. 1. 0. 0. 0. 0.]\n",
      "24\n"
     ]
    }
   ],
   "source": [
    "a=libfmp.c5.generate_chord_templates(nonchord=False)\n",
    "chord_labels = get_chord_labels(nonchord=False)\n",
    "print(a[:,0])\n",
    "print(len(chord_labels))"
   ]
  },
  {
   "cell_type": "code",
   "execution_count": 3,
   "id": "a1b5cc19-ee92-4ae8-a1fc-a768519e4c57",
   "metadata": {},
   "outputs": [
    {
     "name": "stdout",
     "output_type": "stream",
     "text": [
      "['0_Bm_E_C#m_F#m_Bm_E_A_A_110bpm_คนใจง่าย.wav', '0_C#m_B_C#m_B_C#m_B_A_B_112bpm_ขี้หึง.wav', '0_D_D_C#m_C#m_Bm_E_A_A_110bpm_คนใจง่าย.wav', '0_Em7=0.5_Cmaj7=0.5_Em7=0.5_Cmaj7_D_86bpm_ปล่อย.wav', '0_E_E_A_B_C#m_A_B_B_112bpm_ขี้หึง.wav', '0_E_E_G#m_A_E_E_C#m_B_112bpm_ขี้หึง.wav', '0_Fmaj7_Em7_Dm7=2_G7=2_C=2_C7=2_Fmaj7_Em7=2_Am7=2_Dm7_G_68bpm_ถ้า.wav', '0_Fmaj7_Em7_Dm7=2_G7=2_C_Fmaj7_Em7=2_Am7=2_Dm7=2_G7=2_C_68bpm_ถ้า.wav', '0_G=0.5_Em7=0.5_C=0.5_D=0.5_86bpm_ปล่อย.wav', '0_Gmaj7=0.5_Em7=0.5_Cmaj7=0.5_D=0.5_86bpm_ปล่อย.wav', '1_A_Amaj7_D_D_68bpm_นะหน้าธอง.wav', '1_Cmaj7_D7_G_G_100bpm_หมอกจาง.wav', '1_D_Dmaj7_Em7_A_79bpm_ถ้าเธอรักฉันจริง.wav', '1_E_A_C#m_A=2_B=2_73bpm_ร.wav', '1_G_A_F#m7_Bm_110bpm_คุกเข่า.wav', '1_G_A_F#m7_Bm_110bpm_คุกเข่า_stutter.wav', '1_G_Em7_Cmaj7_D_100bpm_หมอกจาง.wav', '2_C_Am7_Dm7_G7_C_Am7_Dm7_G7_68bpm_ถ้า.wav', '2_C_Em7_Am7_F_C_C7_Fmaj7_G_65bpm_ทุ้มอยู่.wav', '2_Dm7_Em7_Fmaj7_Em7_Dm7_C7_Em7_G_G_65bpm_ทุ้มอยู่.wav', '2_G_D_F#_Em7_D_C_Bm7_Am7_D_76bpm_ปีนี้ไม่ต้องเหงา.wav']\n"
     ]
    }
   ],
   "source": [
    "path = '/Users/Kittipat/Desktop/fypW/Program/Train_test/Train_songs'  # replace with the path to your directory\n",
    "files = []\n",
    "\n",
    "for file_name in os.listdir(path):\n",
    "    if os.path.isfile(os.path.join(path, file_name)):\n",
    "        if '.wav' in file_name:\n",
    "            files.append(file_name)\n",
    "\n",
    "print(files)\n",
    "\n",
    "fn_wav = path+'/'+files[0]\n",
    "N = 4096\n",
    "H = 2048\n",
    "X, Fs_X, x, Fs, x_dur = libfmp.c5.compute_chromagram_from_filename(fn_wav, N=N, H=H, gamma=0.1, version='STFT')\n",
    "chord_sim, chord_max = libfmp.c5.chord_recognition_template(X, norm_sim='max')\n",
    "\n",
    "fn_wav = path+'/'+files[1]\n",
    "N = 4096\n",
    "H = 2048\n",
    "X2, Fs_X, x, Fs, x_dur = libfmp.c5.compute_chromagram_from_filename(fn_wav, N=N, H=H, gamma=0.1, version='STFT')"
   ]
  },
  {
   "cell_type": "code",
   "execution_count": 4,
   "id": "d354090f-1332-44d2-a080-3009470a75a4",
   "metadata": {},
   "outputs": [
    {
     "name": "stdout",
     "output_type": "stream",
     "text": [
      "0.6059947274899343\n",
      "188\n"
     ]
    },
    {
     "data": {
      "text/plain": [
       "2"
      ]
     },
     "execution_count": 4,
     "metadata": {},
     "output_type": "execute_result"
    }
   ],
   "source": [
    "print(chord_sim[0,0])\n",
    "print(chord_max.shape[1])\n",
    "chord_labels = get_chord_labels(nonchord=False)\n",
    "chord_labels.index('D')"
   ]
  },
  {
   "cell_type": "code",
   "execution_count": 5,
   "id": "0482af95-dded-4314-a822-a74684943446",
   "metadata": {},
   "outputs": [
    {
     "name": "stdout",
     "output_type": "stream",
     "text": [
      "(24, 4798)\n",
      "(4798,)\n"
     ]
    }
   ],
   "source": [
    "all_sim = np.empty([24,0])\n",
    "all_real = np.empty([0],dtype=int)\n",
    "chord_labels = get_chord_labels(nonchord=False)\n",
    "count = 0\n",
    "for items in files:\n",
    "    fn_wav = path+'/'+items\n",
    "    N = 4096\n",
    "    H = 2048\n",
    "    X, Fs_X, x, Fs, x_dur = libfmp.c5.compute_chromagram_from_filename(fn_wav, N=N, H=H, gamma=0.1, version='STFT')\n",
    "    chord_sim, chord_max = libfmp.c5.chord_recognition_template(X, norm_sim='max')\n",
    "    all_sim = np.append(all_sim, chord_sim, axis=1)\n",
    "    df = libfmp.b.b_annotation.read_csv((path+'/label/'+items.split('.wav')[0] + '.csv'), header=True, add_label=False)\n",
    "    all_real = np.append(all_real, np.zeros((chord_sim.shape[1]),dtype=int))\n",
    "    #print(all_real)\n",
    "    for i in range(df.shape[0]):\n",
    "        df_start = df.at[i,'start']\n",
    "        df_end = df.at[i,'end']\n",
    "        first_frame = round(df_start/0.09284)\n",
    "        last_frame = round(df_end/0.09284)\n",
    "        chord_each = df.at[i,'label']\n",
    "        if 'maj7' in chord_each:\n",
    "            chord = chord_each[0]\n",
    "        elif 'm7' in chord_each:\n",
    "            chord = chord_each[0] + chord_each[1]\n",
    "        elif '7' in chord_each:\n",
    "            chord = chord_each[0]\n",
    "        else:\n",
    "            chord = chord_each\n",
    "        for n in range(first_frame, last_frame):\n",
    "            #print(n)\n",
    "            ind = chord_labels.index(chord)\n",
    "            if (n+count)<len(all_real):\n",
    "                all_real[n+count] = ind\n",
    "                #print(ind)\n",
    "            #print(all_real[i])\n",
    "    count += chord_sim.shape[1]-1\n",
    "    \n",
    "\n",
    "print(all_sim.shape)\n",
    "print(all_real.shape)\n",
    "#print(all_real)"
   ]
  },
  {
   "cell_type": "code",
   "execution_count": 6,
   "id": "5d7b1f6a-dc99-43fb-b7d9-75285515f88a",
   "metadata": {},
   "outputs": [
    {
     "name": "stdout",
     "output_type": "stream",
     "text": [
      "(4798, 24)\n"
     ]
    }
   ],
   "source": [
    "a = np.transpose(all_sim)\n",
    "print(a.shape)\n",
    "y_train = np.empty([3360], dtype=int)\n",
    "y_test = np.empty([1438], dtype=int)\n",
    "for i in range(3360):\n",
    "    y_train[i] = int(all_real[i])\n",
    "for i in range(1438):\n",
    "    y_test[i] = int(all_real[i+3360])\n",
    "    \n",
    "#print(y_train)\n",
    "#print(y_test.shape,y_train.shape,X_train.shape,X_test.shape)"
   ]
  },
  {
   "cell_type": "code",
   "execution_count": 7,
   "id": "e62e5ec0-5745-4e11-bb7b-80d8ede296e0",
   "metadata": {},
   "outputs": [
    {
     "name": "stdout",
     "output_type": "stream",
     "text": [
      "Accuracy: 0.6263888888888889\n",
      "Precision: 0.6204716189953803\n",
      "Recall: 0.6263888888888889\n",
      "F1-score: 0.6113714525184756\n"
     ]
    },
    {
     "name": "stderr",
     "output_type": "stream",
     "text": [
      "C:\\Users\\Kittipat\\anaconda3\\lib\\site-packages\\sklearn\\metrics\\_classification.py:1344: UndefinedMetricWarning: Precision is ill-defined and being set to 0.0 in labels with no predicted samples. Use `zero_division` parameter to control this behavior.\n",
      "  _warn_prf(average, modifier, msg_start, len(result))\n"
     ]
    }
   ],
   "source": [
    "X_train, X_test, y_train, y_test = train_test_split(a, all_real, test_size=0.3, random_state=42)\n",
    "clf = SVC()\n",
    "clf.fit(X_train, y_train)\n",
    "\n",
    "# Evaluate the performance of the model on the testing set\n",
    "y_pred = clf.predict(X_test)\n",
    "accuracy = accuracy_score(y_test, y_pred)\n",
    "precision = precision_score(y_test, y_pred, average='weighted')\n",
    "recall = recall_score(y_test, y_pred, average='weighted')\n",
    "f1 = f1_score(y_test, y_pred, average='weighted')\n",
    "\n",
    "print('Accuracy:', accuracy)\n",
    "print('Precision:', precision)\n",
    "print('Recall:', recall)\n",
    "print('F1-score:', f1)"
   ]
  },
  {
   "cell_type": "code",
   "execution_count": 9,
   "id": "efa65247-4255-4440-92c8-13793609fa97",
   "metadata": {},
   "outputs": [
    {
     "name": "stdout",
     "output_type": "stream",
     "text": [
      "(1440,)\n"
     ]
    }
   ],
   "source": [
    "print(y_test.shape)"
   ]
  },
  {
   "cell_type": "code",
   "execution_count": 8,
   "id": "49ed9707-f4ae-483f-a52d-ed0db9105d72",
   "metadata": {},
   "outputs": [
    {
     "name": "stdout",
     "output_type": "stream",
     "text": [
      "Accuracy: 0.6511046269278866\n"
     ]
    }
   ],
   "source": [
    "X_pred = clf.predict(a)\n",
    "accuracy = accuracy_score(all_real, X_pred)\n",
    "print('Accuracy:', accuracy)"
   ]
  }
 ],
 "metadata": {
  "kernelspec": {
   "display_name": "Python 3 (ipykernel)",
   "language": "python",
   "name": "python3"
  },
  "language_info": {
   "codemirror_mode": {
    "name": "ipython",
    "version": 3
   },
   "file_extension": ".py",
   "mimetype": "text/x-python",
   "name": "python",
   "nbconvert_exporter": "python",
   "pygments_lexer": "ipython3",
   "version": "3.9.12"
  }
 },
 "nbformat": 4,
 "nbformat_minor": 5
}
